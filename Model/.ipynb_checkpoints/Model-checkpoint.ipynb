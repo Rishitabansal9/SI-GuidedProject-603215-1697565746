{
 "cells": [
  {
   "cell_type": "markdown",
   "metadata": {},
   "source": [
    "## Importing Libraries"
   ]
  },
  {
   "cell_type": "code",
   "execution_count": null,
   "metadata": {},
   "outputs": [
    {
     "ename": "",
     "evalue": "",
     "output_type": "error",
     "traceback": [
      "\u001b[1;31mRunning cells with 'c:\\Users\\soumy\\OneDrive\\Desktop\\SmartBridge Internship\\Group Project\\SI-GuidedProject-603215-1697565746\\Model\\.conda\\python.exe' requires the ipykernel package.\n",
      "\u001b[1;31mRun the following command to install 'ipykernel' into the Python environment. \n",
      "\u001b[1;31mCommand: 'conda install -p c:\\Users\\soumy\\OneDrive\\Desktop\\SmartBridge Internship\\Group Project\\SI-GuidedProject-603215-1697565746\\Model\\.conda ipykernel --update-deps --force-reinstall'"
     ]
    }
   ],
   "source": [
    "import pandas as pd\n",
    "import numpy as np"
   ]
  },
  {
   "cell_type": "markdown",
   "metadata": {},
   "source": [
    "## Reading the Dataset"
   ]
  },
  {
   "cell_type": "code",
   "execution_count": null,
   "metadata": {},
   "outputs": [
    {
     "ename": "",
     "evalue": "",
     "output_type": "error",
     "traceback": [
      "\u001b[1;31mRunning cells with 'c:\\Users\\soumy\\OneDrive\\Desktop\\SmartBridge Internship\\Group Project\\SI-GuidedProject-603215-1697565746\\Model\\.conda\\python.exe' requires the ipykernel package.\n",
      "\u001b[1;31mRun the following command to install 'ipykernel' into the Python environment. \n",
      "\u001b[1;31mCommand: 'conda install -p c:\\Users\\soumy\\OneDrive\\Desktop\\SmartBridge Internship\\Group Project\\SI-GuidedProject-603215-1697565746\\Model\\.conda ipykernel --update-deps --force-reinstall'"
     ]
    }
   ],
   "source": [
    "# Reading X_train dataset\n",
    "data1 = pd.read_csv(r'X_train.csv', header='infer')"
   ]
  },
  {
   "cell_type": "code",
   "execution_count": null,
   "metadata": {},
   "outputs": [
    {
     "ename": "",
     "evalue": "",
     "output_type": "error",
     "traceback": [
      "\u001b[1;31mRunning cells with 'c:\\Users\\soumy\\OneDrive\\Desktop\\SmartBridge Internship\\Group Project\\SI-GuidedProject-603215-1697565746\\Model\\.conda\\python.exe' requires the ipykernel package.\n",
      "\u001b[1;31mRun the following command to install 'ipykernel' into the Python environment. \n",
      "\u001b[1;31mCommand: 'conda install -p c:\\Users\\soumy\\OneDrive\\Desktop\\SmartBridge Internship\\Group Project\\SI-GuidedProject-603215-1697565746\\Model\\.conda ipykernel --update-deps --force-reinstall'"
     ]
    }
   ],
   "source": [
    "# Reading the y_train dataset\n",
    "data2 = pd.read_csv(r'y_train.csv', header='infer')"
   ]
  },
  {
   "cell_type": "code",
   "execution_count": null,
   "metadata": {},
   "outputs": [
    {
     "ename": "",
     "evalue": "",
     "output_type": "error",
     "traceback": [
      "\u001b[1;31mRunning cells with 'c:\\Users\\soumy\\OneDrive\\Desktop\\SmartBridge Internship\\Group Project\\SI-GuidedProject-603215-1697565746\\Model\\.conda\\python.exe' requires the ipykernel package.\n",
      "\u001b[1;31mRun the following command to install 'ipykernel' into the Python environment. \n",
      "\u001b[1;31mCommand: 'conda install -p c:\\Users\\soumy\\OneDrive\\Desktop\\SmartBridge Internship\\Group Project\\SI-GuidedProject-603215-1697565746\\Model\\.conda ipykernel --update-deps --force-reinstall'"
     ]
    }
   ],
   "source": [
    "# Merging the datasets\n",
    "data = data1.merge(data2, on=['playerId'], how='inner')\n",
    "print(data.head())"
   ]
  },
  {
   "cell_type": "code",
   "execution_count": null,
   "metadata": {},
   "outputs": [
    {
     "ename": "",
     "evalue": "",
     "output_type": "error",
     "traceback": [
      "\u001b[1;31mRunning cells with 'c:\\Users\\soumy\\OneDrive\\Desktop\\SmartBridge Internship\\Group Project\\SI-GuidedProject-603215-1697565746\\Model\\.conda\\python.exe' requires the ipykernel package.\n",
      "\u001b[1;31mRun the following command to install 'ipykernel' into the Python environment. \n",
      "\u001b[1;31mCommand: 'conda install -p c:\\Users\\soumy\\OneDrive\\Desktop\\SmartBridge Internship\\Group Project\\SI-GuidedProject-603215-1697565746\\Model\\.conda ipykernel --update-deps --force-reinstall'"
     ]
    }
   ],
   "source": [
    "data.describe()"
   ]
  },
  {
   "cell_type": "markdown",
   "metadata": {},
   "source": [
    "## Handling Null Values"
   ]
  },
  {
   "cell_type": "code",
   "execution_count": null,
   "metadata": {},
   "outputs": [
    {
     "ename": "",
     "evalue": "",
     "output_type": "error",
     "traceback": [
      "\u001b[1;31mRunning cells with 'c:\\Users\\soumy\\OneDrive\\Desktop\\SmartBridge Internship\\Group Project\\SI-GuidedProject-603215-1697565746\\Model\\.conda\\python.exe' requires the ipykernel package.\n",
      "\u001b[1;31mRun the following command to install 'ipykernel' into the Python environment. \n",
      "\u001b[1;31mCommand: 'conda install -p c:\\Users\\soumy\\OneDrive\\Desktop\\SmartBridge Internship\\Group Project\\SI-GuidedProject-603215-1697565746\\Model\\.conda ipykernel --update-deps --force-reinstall'"
     ]
    }
   ],
   "source": [
    "data.isnull().sum()"
   ]
  },
  {
   "cell_type": "markdown",
   "metadata": {},
   "source": [
    "We can see that the Age column has 175 missing values. We will fill in those missing values,\n",
    "but to determine how to fill in the column, we need to know the data type of that column.\n",
    "To check the data type of the attributes. .info() function is used."
   ]
  },
  {
   "cell_type": "code",
   "execution_count": null,
   "metadata": {},
   "outputs": [
    {
     "ename": "",
     "evalue": "",
     "output_type": "error",
     "traceback": [
      "\u001b[1;31mRunning cells with 'c:\\Users\\soumy\\OneDrive\\Desktop\\SmartBridge Internship\\Group Project\\SI-GuidedProject-603215-1697565746\\Model\\.conda\\python.exe' requires the ipykernel package.\n",
      "\u001b[1;31mRun the following command to install 'ipykernel' into the Python environment. \n",
      "\u001b[1;31mCommand: 'conda install -p c:\\Users\\soumy\\OneDrive\\Desktop\\SmartBridge Internship\\Group Project\\SI-GuidedProject-603215-1697565746\\Model\\.conda ipykernel --update-deps --force-reinstall'"
     ]
    }
   ],
   "source": [
    "data.info()"
   ]
  },
  {
   "cell_type": "code",
   "execution_count": null,
   "metadata": {},
   "outputs": [
    {
     "ename": "",
     "evalue": "",
     "output_type": "error",
     "traceback": [
      "\u001b[1;31mRunning cells with 'c:\\Users\\soumy\\OneDrive\\Desktop\\SmartBridge Internship\\Group Project\\SI-GuidedProject-603215-1697565746\\Model\\.conda\\python.exe' requires the ipykernel package.\n",
      "\u001b[1;31mRun the following command to install 'ipykernel' into the Python environment. \n",
      "\u001b[1;31mCommand: 'conda install -p c:\\Users\\soumy\\OneDrive\\Desktop\\SmartBridge Internship\\Group Project\\SI-GuidedProject-603215-1697565746\\Model\\.conda ipykernel --update-deps --force-reinstall'"
     ]
    }
   ],
   "source": [
    "data['Age'].fillna(data['Age'].mean(),inplace=True)"
   ]
  },
  {
   "cell_type": "code",
   "execution_count": null,
   "metadata": {},
   "outputs": [
    {
     "ename": "",
     "evalue": "",
     "output_type": "error",
     "traceback": [
      "\u001b[1;31mRunning cells with 'c:\\Users\\soumy\\OneDrive\\Desktop\\SmartBridge Internship\\Group Project\\SI-GuidedProject-603215-1697565746\\Model\\.conda\\python.exe' requires the ipykernel package.\n",
      "\u001b[1;31mRun the following command to install 'ipykernel' into the Python environment. \n",
      "\u001b[1;31mCommand: 'conda install -p c:\\Users\\soumy\\OneDrive\\Desktop\\SmartBridge Internship\\Group Project\\SI-GuidedProject-603215-1697565746\\Model\\.conda ipykernel --update-deps --force-reinstall'"
     ]
    }
   ],
   "source": [
    "data.isnull().sum()"
   ]
  },
  {
   "cell_type": "markdown",
   "metadata": {},
   "source": [
    "## Label Encoding for Sex and Equipment"
   ]
  },
  {
   "cell_type": "code",
   "execution_count": null,
   "metadata": {},
   "outputs": [
    {
     "ename": "",
     "evalue": "",
     "output_type": "error",
     "traceback": [
      "\u001b[1;31mRunning cells with 'c:\\Users\\soumy\\OneDrive\\Desktop\\SmartBridge Internship\\Group Project\\SI-GuidedProject-603215-1697565746\\Model\\.conda\\python.exe' requires the ipykernel package.\n",
      "\u001b[1;31mRun the following command to install 'ipykernel' into the Python environment. \n",
      "\u001b[1;31mCommand: 'conda install -p c:\\Users\\soumy\\OneDrive\\Desktop\\SmartBridge Internship\\Group Project\\SI-GuidedProject-603215-1697565746\\Model\\.conda ipykernel --update-deps --force-reinstall'"
     ]
    }
   ],
   "source": [
    "# converting the sec column object type to float type\n",
    "data['Sex'] = data['Sex'].map({\"M\":1, \"F\":0})\n",
    "#encode the equipment column\n",
    "from sklearn.preprocessing import LabelEncoder\n",
    "data[\"Equipment\"] = LabelEncoder().fit_transform(data['Equipment'])"
   ]
  },
  {
   "cell_type": "code",
   "execution_count": null,
   "metadata": {},
   "outputs": [
    {
     "ename": "",
     "evalue": "",
     "output_type": "error",
     "traceback": [
      "\u001b[1;31mRunning cells with 'c:\\Users\\soumy\\OneDrive\\Desktop\\SmartBridge Internship\\Group Project\\SI-GuidedProject-603215-1697565746\\Model\\.conda\\python.exe' requires the ipykernel package.\n",
      "\u001b[1;31mRun the following command to install 'ipykernel' into the Python environment. \n",
      "\u001b[1;31mCommand: 'conda install -p c:\\Users\\soumy\\OneDrive\\Desktop\\SmartBridge Internship\\Group Project\\SI-GuidedProject-603215-1697565746\\Model\\.conda ipykernel --update-deps --force-reinstall'"
     ]
    }
   ],
   "source": [
    "data.info()"
   ]
  },
  {
   "cell_type": "code",
   "execution_count": null,
   "metadata": {},
   "outputs": [
    {
     "ename": "",
     "evalue": "",
     "output_type": "error",
     "traceback": [
      "\u001b[1;31mRunning cells with 'c:\\Users\\soumy\\OneDrive\\Desktop\\SmartBridge Internship\\Group Project\\SI-GuidedProject-603215-1697565746\\Model\\.conda\\python.exe' requires the ipykernel package.\n",
      "\u001b[1;31mRun the following command to install 'ipykernel' into the Python environment. \n",
      "\u001b[1;31mCommand: 'conda install -p c:\\Users\\soumy\\OneDrive\\Desktop\\SmartBridge Internship\\Group Project\\SI-GuidedProject-603215-1697565746\\Model\\.conda ipykernel --update-deps --force-reinstall'"
     ]
    }
   ],
   "source": [
    "data.describe()"
   ]
  },
  {
   "cell_type": "code",
   "execution_count": null,
   "metadata": {},
   "outputs": [
    {
     "ename": "",
     "evalue": "",
     "output_type": "error",
     "traceback": [
      "\u001b[1;31mRunning cells with 'c:\\Users\\soumy\\OneDrive\\Desktop\\SmartBridge Internship\\Group Project\\SI-GuidedProject-603215-1697565746\\Model\\.conda\\python.exe' requires the ipykernel package.\n",
      "\u001b[1;31mRun the following command to install 'ipykernel' into the Python environment. \n",
      "\u001b[1;31mCommand: 'conda install -p c:\\Users\\soumy\\OneDrive\\Desktop\\SmartBridge Internship\\Group Project\\SI-GuidedProject-603215-1697565746\\Model\\.conda ipykernel --update-deps --force-reinstall'"
     ]
    }
   ],
   "source": [
    "data.shape"
   ]
  },
  {
   "cell_type": "markdown",
   "metadata": {},
   "source": [
    "## Exploratory Data Analysis"
   ]
  },
  {
   "cell_type": "code",
   "execution_count": null,
   "metadata": {},
   "outputs": [
    {
     "ename": "",
     "evalue": "",
     "output_type": "error",
     "traceback": [
      "\u001b[1;31mRunning cells with 'c:\\Users\\soumy\\OneDrive\\Desktop\\SmartBridge Internship\\Group Project\\SI-GuidedProject-603215-1697565746\\Model\\.conda\\python.exe' requires the ipykernel package.\n",
      "\u001b[1;31mRun the following command to install 'ipykernel' into the Python environment. \n",
      "\u001b[1;31mCommand: 'conda install -p c:\\Users\\soumy\\OneDrive\\Desktop\\SmartBridge Internship\\Group Project\\SI-GuidedProject-603215-1697565746\\Model\\.conda ipykernel --update-deps --force-reinstall'"
     ]
    }
   ],
   "source": [
    "#Correlation\n",
    "cor = data.corr()\n",
    "cor"
   ]
  }
 ],
 "metadata": {
  "kernelspec": {
   "display_name": "Python 3",
   "language": "python",
   "name": "python3"
  },
  "language_info": {
   "codemirror_mode": {
    "name": "ipython",
    "version": 3
   },
   "file_extension": ".py",
   "mimetype": "text/x-python",
   "name": "python",
   "nbconvert_exporter": "python",
   "pygments_lexer": "ipython3",
   "version": "3.10.13"
  }
 },
 "nbformat": 4,
 "nbformat_minor": 2
}
