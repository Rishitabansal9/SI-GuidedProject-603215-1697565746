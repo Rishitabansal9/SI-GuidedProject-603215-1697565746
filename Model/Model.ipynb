{
 "cells": [
  {
   "cell_type": "markdown",
   "metadata": {},
   "source": [
    "## Importing Libraries"
   ]
  },
  {
   "cell_type": "code",
   "execution_count": 1,
   "metadata": {},
   "outputs": [],
   "source": [
    "import pandas as pd\n",
    "import numpy as np"
   ]
  },
  {
   "cell_type": "markdown",
   "metadata": {},
   "source": [
    "## Reading the Dataset"
   ]
  },
  {
   "cell_type": "code",
   "execution_count": 2,
   "metadata": {},
   "outputs": [],
   "source": [
    "# Reading X_train dataset\n",
    "data1 = pd.read_csv(r'X_train.csv', header='infer')"
   ]
  },
  {
   "cell_type": "code",
   "execution_count": 3,
   "metadata": {},
   "outputs": [],
   "source": [
    "# Reading the y_train dataset\n",
    "data2 = pd.read_csv(r'y_train.csv', header='infer')"
   ]
  },
  {
   "cell_type": "code",
   "execution_count": 5,
   "metadata": {},
   "outputs": [
    {
     "name": "stdout",
     "output_type": "stream",
     "text": [
      "   playerId           Name Sex Equipment   Age  BodyweightKg BestSquatKg  \\\n",
      "0   19391.0   Carlos Ceron   M       Raw  23.0         87.30       205.0   \n",
      "1   15978.0   Tito Herrera   M     Wraps  23.0         73.48       220.0   \n",
      "2   27209.0    Levi Lehman   M       Raw  26.0        112.40       142.5   \n",
      "3   27496.0  Stacy Hayford   F       Raw  35.0         59.42        95.0   \n",
      "4   20293.0  Brittany Hirt   F       Raw  26.5         61.40       105.0   \n",
      "\n",
      "   BestDeadliftKg  BestBenchKg  \n",
      "0           235.0        125.0  \n",
      "1           260.0        157.5  \n",
      "2           220.0        145.0  \n",
      "3           102.5         60.0  \n",
      "4           127.5         60.0  \n"
     ]
    }
   ],
   "source": [
    "# Merging the datasets\n",
    "data = data1.merge(data2, on=['playerId'], how='inner')\n",
    "print(data.head())"
   ]
  },
  {
   "cell_type": "code",
   "execution_count": 6,
   "metadata": {},
   "outputs": [
    {
     "data": {
      "text/html": [
       "<div>\n",
       "<style scoped>\n",
       "    .dataframe tbody tr th:only-of-type {\n",
       "        vertical-align: middle;\n",
       "    }\n",
       "\n",
       "    .dataframe tbody tr th {\n",
       "        vertical-align: top;\n",
       "    }\n",
       "\n",
       "    .dataframe thead th {\n",
       "        text-align: right;\n",
       "    }\n",
       "</style>\n",
       "<table border=\"1\" class=\"dataframe\">\n",
       "  <thead>\n",
       "    <tr style=\"text-align: right;\">\n",
       "      <th></th>\n",
       "      <th>playerId</th>\n",
       "      <th>Age</th>\n",
       "      <th>BodyweightKg</th>\n",
       "      <th>BestDeadliftKg</th>\n",
       "      <th>BestBenchKg</th>\n",
       "    </tr>\n",
       "  </thead>\n",
       "  <tbody>\n",
       "    <tr>\n",
       "      <th>count</th>\n",
       "      <td>18900.00000</td>\n",
       "      <td>18725.00000</td>\n",
       "      <td>18900.000000</td>\n",
       "      <td>18900.00000</td>\n",
       "      <td>18900.000000</td>\n",
       "    </tr>\n",
       "    <tr>\n",
       "      <th>mean</th>\n",
       "      <td>15039.49963</td>\n",
       "      <td>29.66470</td>\n",
       "      <td>85.425557</td>\n",
       "      <td>201.12277</td>\n",
       "      <td>116.963389</td>\n",
       "    </tr>\n",
       "    <tr>\n",
       "      <th>std</th>\n",
       "      <td>8674.67268</td>\n",
       "      <td>11.55708</td>\n",
       "      <td>22.959720</td>\n",
       "      <td>62.17163</td>\n",
       "      <td>51.231651</td>\n",
       "    </tr>\n",
       "    <tr>\n",
       "      <th>min</th>\n",
       "      <td>0.00000</td>\n",
       "      <td>7.00000</td>\n",
       "      <td>26.130000</td>\n",
       "      <td>18.10000</td>\n",
       "      <td>9.100000</td>\n",
       "    </tr>\n",
       "    <tr>\n",
       "      <th>25%</th>\n",
       "      <td>7462.75000</td>\n",
       "      <td>21.50000</td>\n",
       "      <td>67.700000</td>\n",
       "      <td>149.85750</td>\n",
       "      <td>72.500000</td>\n",
       "    </tr>\n",
       "    <tr>\n",
       "      <th>50%</th>\n",
       "      <td>15122.50000</td>\n",
       "      <td>26.50000</td>\n",
       "      <td>82.100000</td>\n",
       "      <td>204.12000</td>\n",
       "      <td>115.000000</td>\n",
       "    </tr>\n",
       "    <tr>\n",
       "      <th>75%</th>\n",
       "      <td>22540.25000</td>\n",
       "      <td>35.00000</td>\n",
       "      <td>98.970000</td>\n",
       "      <td>247.50000</td>\n",
       "      <td>150.000000</td>\n",
       "    </tr>\n",
       "    <tr>\n",
       "      <th>max</th>\n",
       "      <td>29998.00000</td>\n",
       "      <td>83.00000</td>\n",
       "      <td>201.000000</td>\n",
       "      <td>408.23000</td>\n",
       "      <td>425.000000</td>\n",
       "    </tr>\n",
       "  </tbody>\n",
       "</table>\n",
       "</div>"
      ],
      "text/plain": [
       "          playerId          Age  BodyweightKg  BestDeadliftKg   BestBenchKg\n",
       "count  18900.00000  18725.00000  18900.000000     18900.00000  18900.000000\n",
       "mean   15039.49963     29.66470     85.425557       201.12277    116.963389\n",
       "std     8674.67268     11.55708     22.959720        62.17163     51.231651\n",
       "min        0.00000      7.00000     26.130000        18.10000      9.100000\n",
       "25%     7462.75000     21.50000     67.700000       149.85750     72.500000\n",
       "50%    15122.50000     26.50000     82.100000       204.12000    115.000000\n",
       "75%    22540.25000     35.00000     98.970000       247.50000    150.000000\n",
       "max    29998.00000     83.00000    201.000000       408.23000    425.000000"
      ]
     },
     "execution_count": 6,
     "metadata": {},
     "output_type": "execute_result"
    }
   ],
   "source": [
    "data.describe()"
   ]
  },
  {
   "cell_type": "markdown",
   "metadata": {},
   "source": [
    "## Handling Null Values"
   ]
  },
  {
   "cell_type": "code",
   "execution_count": 7,
   "metadata": {},
   "outputs": [
    {
     "data": {
      "text/plain": [
       "playerId            0\n",
       "Name                0\n",
       "Sex                 0\n",
       "Equipment           0\n",
       "Age               175\n",
       "BodyweightKg        0\n",
       "BestSquatKg         0\n",
       "BestDeadliftKg      0\n",
       "BestBenchKg         0\n",
       "dtype: int64"
      ]
     },
     "execution_count": 7,
     "metadata": {},
     "output_type": "execute_result"
    }
   ],
   "source": [
    "data.isnull().sum()"
   ]
  },
  {
   "cell_type": "markdown",
   "metadata": {},
   "source": [
    "We can see that the Age column has 175 missing values. We will fill in those missing values,\n",
    "but to determine how to fill in the column, we need to know the data type of that column.\n",
    "To check the data type of the attributes. .info() function is used."
   ]
  },
  {
   "cell_type": "code",
   "execution_count": 8,
   "metadata": {},
   "outputs": [
    {
     "name": "stdout",
     "output_type": "stream",
     "text": [
      "<class 'pandas.core.frame.DataFrame'>\n",
      "RangeIndex: 18900 entries, 0 to 18899\n",
      "Data columns (total 9 columns):\n",
      " #   Column          Non-Null Count  Dtype  \n",
      "---  ------          --------------  -----  \n",
      " 0   playerId        18900 non-null  float64\n",
      " 1   Name            18900 non-null  object \n",
      " 2   Sex             18900 non-null  object \n",
      " 3   Equipment       18900 non-null  object \n",
      " 4   Age             18725 non-null  float64\n",
      " 5   BodyweightKg    18900 non-null  float64\n",
      " 6   BestSquatKg     18900 non-null  object \n",
      " 7   BestDeadliftKg  18900 non-null  float64\n",
      " 8   BestBenchKg     18900 non-null  float64\n",
      "dtypes: float64(5), object(4)\n",
      "memory usage: 1.3+ MB\n"
     ]
    }
   ],
   "source": [
    "data.info()"
   ]
  },
  {
   "cell_type": "code",
   "execution_count": 9,
   "metadata": {},
   "outputs": [],
   "source": [
    "data['Age'].fillna(data['Age'].mean(),inplace=True)"
   ]
  },
  {
   "cell_type": "code",
   "execution_count": 10,
   "metadata": {},
   "outputs": [
    {
     "data": {
      "text/plain": [
       "playerId          0\n",
       "Name              0\n",
       "Sex               0\n",
       "Equipment         0\n",
       "Age               0\n",
       "BodyweightKg      0\n",
       "BestSquatKg       0\n",
       "BestDeadliftKg    0\n",
       "BestBenchKg       0\n",
       "dtype: int64"
      ]
     },
     "execution_count": 10,
     "metadata": {},
     "output_type": "execute_result"
    }
   ],
   "source": [
    "data.isnull().sum()"
   ]
  },
  {
   "cell_type": "markdown",
   "metadata": {},
   "source": [
    "## Label Encoding for Sex and Equipment"
   ]
  },
  {
   "cell_type": "code",
   "execution_count": 11,
   "metadata": {},
   "outputs": [],
   "source": [
    "# converting the sec column object type to float type\n",
    "data['Sex'] = data['Sex'].map({\"M\":1, \"F\":0})\n",
    "#encode the equipment column\n",
    "from sklearn.preprocessing import LabelEncoder\n",
    "data[\"Equipment\"] = LabelEncoder().fit_transform(data['Equipment'])"
   ]
  },
  {
   "cell_type": "code",
   "execution_count": 12,
   "metadata": {},
   "outputs": [
    {
     "name": "stdout",
     "output_type": "stream",
     "text": [
      "<class 'pandas.core.frame.DataFrame'>\n",
      "RangeIndex: 18900 entries, 0 to 18899\n",
      "Data columns (total 9 columns):\n",
      " #   Column          Non-Null Count  Dtype  \n",
      "---  ------          --------------  -----  \n",
      " 0   playerId        18900 non-null  float64\n",
      " 1   Name            18900 non-null  object \n",
      " 2   Sex             18900 non-null  int64  \n",
      " 3   Equipment       18900 non-null  int32  \n",
      " 4   Age             18900 non-null  float64\n",
      " 5   BodyweightKg    18900 non-null  float64\n",
      " 6   BestSquatKg     18900 non-null  object \n",
      " 7   BestDeadliftKg  18900 non-null  float64\n",
      " 8   BestBenchKg     18900 non-null  float64\n",
      "dtypes: float64(5), int32(1), int64(1), object(2)\n",
      "memory usage: 1.2+ MB\n"
     ]
    }
   ],
   "source": [
    "data.info()"
   ]
  },
  {
   "cell_type": "code",
   "execution_count": 13,
   "metadata": {},
   "outputs": [
    {
     "data": {
      "text/html": [
       "<div>\n",
       "<style scoped>\n",
       "    .dataframe tbody tr th:only-of-type {\n",
       "        vertical-align: middle;\n",
       "    }\n",
       "\n",
       "    .dataframe tbody tr th {\n",
       "        vertical-align: top;\n",
       "    }\n",
       "\n",
       "    .dataframe thead th {\n",
       "        text-align: right;\n",
       "    }\n",
       "</style>\n",
       "<table border=\"1\" class=\"dataframe\">\n",
       "  <thead>\n",
       "    <tr style=\"text-align: right;\">\n",
       "      <th></th>\n",
       "      <th>playerId</th>\n",
       "      <th>Sex</th>\n",
       "      <th>Equipment</th>\n",
       "      <th>Age</th>\n",
       "      <th>BodyweightKg</th>\n",
       "      <th>BestDeadliftKg</th>\n",
       "      <th>BestBenchKg</th>\n",
       "    </tr>\n",
       "  </thead>\n",
       "  <tbody>\n",
       "    <tr>\n",
       "      <th>count</th>\n",
       "      <td>18900.00000</td>\n",
       "      <td>18900.000000</td>\n",
       "      <td>18900.000000</td>\n",
       "      <td>18900.000000</td>\n",
       "      <td>18900.000000</td>\n",
       "      <td>18900.00000</td>\n",
       "      <td>18900.000000</td>\n",
       "    </tr>\n",
       "    <tr>\n",
       "      <th>mean</th>\n",
       "      <td>15039.49963</td>\n",
       "      <td>0.675714</td>\n",
       "      <td>1.524127</td>\n",
       "      <td>29.664700</td>\n",
       "      <td>85.425557</td>\n",
       "      <td>201.12277</td>\n",
       "      <td>116.963389</td>\n",
       "    </tr>\n",
       "    <tr>\n",
       "      <th>std</th>\n",
       "      <td>8674.67268</td>\n",
       "      <td>0.468120</td>\n",
       "      <td>0.839712</td>\n",
       "      <td>11.503448</td>\n",
       "      <td>22.959720</td>\n",
       "      <td>62.17163</td>\n",
       "      <td>51.231651</td>\n",
       "    </tr>\n",
       "    <tr>\n",
       "      <th>min</th>\n",
       "      <td>0.00000</td>\n",
       "      <td>0.000000</td>\n",
       "      <td>0.000000</td>\n",
       "      <td>7.000000</td>\n",
       "      <td>26.130000</td>\n",
       "      <td>18.10000</td>\n",
       "      <td>9.100000</td>\n",
       "    </tr>\n",
       "    <tr>\n",
       "      <th>25%</th>\n",
       "      <td>7462.75000</td>\n",
       "      <td>0.000000</td>\n",
       "      <td>1.000000</td>\n",
       "      <td>21.500000</td>\n",
       "      <td>67.700000</td>\n",
       "      <td>149.85750</td>\n",
       "      <td>72.500000</td>\n",
       "    </tr>\n",
       "    <tr>\n",
       "      <th>50%</th>\n",
       "      <td>15122.50000</td>\n",
       "      <td>1.000000</td>\n",
       "      <td>1.000000</td>\n",
       "      <td>26.500000</td>\n",
       "      <td>82.100000</td>\n",
       "      <td>204.12000</td>\n",
       "      <td>115.000000</td>\n",
       "    </tr>\n",
       "    <tr>\n",
       "      <th>75%</th>\n",
       "      <td>22540.25000</td>\n",
       "      <td>1.000000</td>\n",
       "      <td>2.000000</td>\n",
       "      <td>34.500000</td>\n",
       "      <td>98.970000</td>\n",
       "      <td>247.50000</td>\n",
       "      <td>150.000000</td>\n",
       "    </tr>\n",
       "    <tr>\n",
       "      <th>max</th>\n",
       "      <td>29998.00000</td>\n",
       "      <td>1.000000</td>\n",
       "      <td>3.000000</td>\n",
       "      <td>83.000000</td>\n",
       "      <td>201.000000</td>\n",
       "      <td>408.23000</td>\n",
       "      <td>425.000000</td>\n",
       "    </tr>\n",
       "  </tbody>\n",
       "</table>\n",
       "</div>"
      ],
      "text/plain": [
       "          playerId           Sex     Equipment           Age  BodyweightKg  \\\n",
       "count  18900.00000  18900.000000  18900.000000  18900.000000  18900.000000   \n",
       "mean   15039.49963      0.675714      1.524127     29.664700     85.425557   \n",
       "std     8674.67268      0.468120      0.839712     11.503448     22.959720   \n",
       "min        0.00000      0.000000      0.000000      7.000000     26.130000   \n",
       "25%     7462.75000      0.000000      1.000000     21.500000     67.700000   \n",
       "50%    15122.50000      1.000000      1.000000     26.500000     82.100000   \n",
       "75%    22540.25000      1.000000      2.000000     34.500000     98.970000   \n",
       "max    29998.00000      1.000000      3.000000     83.000000    201.000000   \n",
       "\n",
       "       BestDeadliftKg   BestBenchKg  \n",
       "count     18900.00000  18900.000000  \n",
       "mean        201.12277    116.963389  \n",
       "std          62.17163     51.231651  \n",
       "min          18.10000      9.100000  \n",
       "25%         149.85750     72.500000  \n",
       "50%         204.12000    115.000000  \n",
       "75%         247.50000    150.000000  \n",
       "max         408.23000    425.000000  "
      ]
     },
     "execution_count": 13,
     "metadata": {},
     "output_type": "execute_result"
    }
   ],
   "source": [
    "data.describe()"
   ]
  },
  {
   "cell_type": "code",
   "execution_count": 15,
   "metadata": {},
   "outputs": [
    {
     "data": {
      "text/plain": [
       "(18900, 9)"
      ]
     },
     "execution_count": 15,
     "metadata": {},
     "output_type": "execute_result"
    }
   ],
   "source": [
    "data.shape"
   ]
  },
  {
   "cell_type": "code",
   "execution_count": null,
   "metadata": {},
   "outputs": [],
   "source": []
  }
 ],
 "metadata": {
  "kernelspec": {
   "display_name": "Python 3",
   "language": "python",
   "name": "python3"
  },
  "language_info": {
   "codemirror_mode": {
    "name": "ipython",
    "version": 3
   },
   "file_extension": ".py",
   "mimetype": "text/x-python",
   "name": "python",
   "nbconvert_exporter": "python",
   "pygments_lexer": "ipython3",
   "version": "3.11.0"
  }
 },
 "nbformat": 4,
 "nbformat_minor": 2
}
